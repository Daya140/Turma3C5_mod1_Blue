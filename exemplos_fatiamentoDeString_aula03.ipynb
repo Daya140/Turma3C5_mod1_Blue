{
  "nbformat": 4,
  "nbformat_minor": 0,
  "metadata": {
    "colab": {
      "name": "exemplos_fatiamentoDeString_aula03.ipynb",
      "provenance": [],
      "collapsed_sections": [],
      "authorship_tag": "ABX9TyOx1yP2ewXq0yX6FCIHxSLM",
      "include_colab_link": true
    },
    "kernelspec": {
      "name": "python3",
      "display_name": "Python 3"
    },
    "language_info": {
      "name": "python"
    }
  },
  "cells": [
    {
      "cell_type": "markdown",
      "metadata": {
        "id": "view-in-github",
        "colab_type": "text"
      },
      "source": [
        "<a href=\"https://colab.research.google.com/github/Daya140/Turma3C5_mod1_Blue/blob/main/exemplos_fatiamentoDeString_aula03.ipynb\" target=\"_parent\"><img src=\"https://colab.research.google.com/assets/colab-badge.svg\" alt=\"Open In Colab\"/></a>"
      ]
    },
    {
      "cell_type": "code",
      "metadata": {
        "id": "9AsGzjO3Lfj9"
      },
      "source": [
        "string1 ='Sejam bem-vindos(as) à Blue!'\n",
        "stringNum = '0123456789'\n",
        "print(len(string1))\n",
        "print(string1[10]) # Retorna o caractere que está na posição do índice passado (lembrando que começa do 0, e termina no \"tamanho -1\")\n",
        "print(string1[13:18]) # Retorna os caracteres do limite inferior até o 'superior -1'(então eu sempre vou colocar 1 a mais do que eu quero no limite superior)\n"
      ],
      "execution_count": null,
      "outputs": []
    }
  ]
}
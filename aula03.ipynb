{
  "nbformat": 4,
  "nbformat_minor": 0,
  "metadata": {
    "colab": {
      "name": "aula03.ipynb",
      "provenance": [],
      "authorship_tag": "ABX9TyOoXCfNUkDbWvzT7ZetpLoX",
      "include_colab_link": true
    },
    "kernelspec": {
      "name": "python3",
      "display_name": "Python 3"
    },
    "language_info": {
      "name": "python"
    }
  },
  "cells": [
    {
      "cell_type": "markdown",
      "metadata": {
        "id": "view-in-github",
        "colab_type": "text"
      },
      "source": [
        "<a href=\"https://colab.research.google.com/github/Daya140/Turma3C5_mod1_Blue/blob/main/aula03.ipynb\" target=\"_parent\"><img src=\"https://colab.research.google.com/assets/colab-badge.svg\" alt=\"Open In Colab\"/></a>"
      ]
    },
    {
      "cell_type": "code",
      "metadata": {
        "id": "NFDLYEJW7D4k"
      },
      "source": [
        "#01 – Escreva um programa que deve receber o nome completo do usuário e retornar uma\n",
        "#saudação com o nome no formato adequado (todas as primeiras letras em maiúsculas).\n",
        "\n",
        "\n",
        "nome = input('Digite seu nome completo: ').title()\n",
        "\n",
        "print(f'Bem-vindo(a) {nome}!')"
      ],
      "execution_count": null,
      "outputs": []
    },
    {
      "cell_type": "code",
      "metadata": {
        "id": "6VSiecsGCKRC"
      },
      "source": [
        "#02 - Escreva um programa que solicite uma frase ao usuário e escreva a frase toda em\n",
        "#maiúscula e sem espaços em branco.\n",
        "\n",
        "\n",
        "frase = input(\"Digite uma frase: \\n\").upper().replace(' ',''))\n",
        "\n",
        "print(frase)"
      ],
      "execution_count": null,
      "outputs": []
    },
    {
      "cell_type": "code",
      "metadata": {
        "id": "K8uhx9RRFGHu"
      },
      "source": [
        "#03 – Faça um programa que solicite a altura e o peso do usuário, e calcule o seu IMC. Os\n",
        "#dados entrados precisam ser corrigidos pelo programa (trocando “,” por “.” e eliminando\n",
        "#espaços e letras extras).\n",
        "import pandas as pd\n",
        "\n",
        "alt = float(input('Qual é a sua altura?\\nM ').lower().replace(',' , '.').replace(' ' , '').replace('m',''))\n",
        "print(alt)\n",
        "print(type(alt))\n",
        "\n",
        "peso = float(input('Qual é o seu peso?\\nKg ').lower().replace(',','.').replace(' ' , '').replace('k','').replace.('g','')\n",
        "print(peso)\n",
        "print(type(peso))\n",
        "\n",
        "imc = peso / (alt**2)\n",
        "print(f'O seu IMC é: {imc:.1f}')"
      ],
      "execution_count": null,
      "outputs": []
    }
  ]
}
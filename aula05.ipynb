{
  "nbformat": 4,
  "nbformat_minor": 0,
  "metadata": {
    "colab": {
      "name": "aula05.ipynb",
      "provenance": [],
      "authorship_tag": "ABX9TyMMxLpINqfOQ7SxDvrIjFQx",
      "include_colab_link": true
    },
    "kernelspec": {
      "name": "python3",
      "display_name": "Python 3"
    },
    "language_info": {
      "name": "python"
    }
  },
  "cells": [
    {
      "cell_type": "markdown",
      "metadata": {
        "id": "view-in-github",
        "colab_type": "text"
      },
      "source": [
        "<a href=\"https://colab.research.google.com/github/Daya140/Turma3C5_mod1_Blue/blob/main/aula05.ipynb\" target=\"_parent\"><img src=\"https://colab.research.google.com/assets/colab-badge.svg\" alt=\"Open In Colab\"/></a>"
      ]
    },
    {
      "cell_type": "code",
      "metadata": {
        "id": "2G3bWBEj9Vm9"
      },
      "source": [
        "#1 - Faça um programa que leia o sexo biológico de uma pessoa, mas só aceite os valores ‘M’ ou ‘F’.\n",
        "#Caso esteja errado, peça a digitação novamente até ter um valor correto.\n",
        "\n",
        "sexo_bio = input('Digite seu sexo biológico: [F / M]').upper()\n",
        "print(sexo_bio)\n",
        "while sexo_bio != 'M' and sexo_bio != 'F':\n",
        "  print('Erro, Digite novamente: ' )\n",
        "break\n",
        "\n",
        "\n",
        "  "
      ],
      "execution_count": null,
      "outputs": []
    }
  ]
}